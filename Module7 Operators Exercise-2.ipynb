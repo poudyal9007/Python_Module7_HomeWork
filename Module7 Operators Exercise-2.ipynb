{
 "cells": [
  {
   "cell_type": "markdown",
   "metadata": {},
   "source": [
    "### Exercise 1\n",
    "Ask a user to enter a number. If the number is positive, print <b>Positive number</b>. Otherwise, do not print any message. Finally, print 'goodbye' message at the end."
   ]
  },
  {
   "cell_type": "code",
   "execution_count": 3,
   "metadata": {},
   "outputs": [
    {
     "name": "stdout",
     "output_type": "stream",
     "text": [
      "Enter a number: 2\n",
      "Positive number\n",
      "Goodbye\n"
     ]
    }
   ],
   "source": [
    "ans = int(input(\"Enter a number: \"))\n",
    "if ans > 0 :\n",
    "    print(\"Positive number\")\n",
    "    \n",
    "print(\"Goodbye\")  "
   ]
  },
  {
   "cell_type": "markdown",
   "metadata": {},
   "source": [
    "### Exercise 2\n",
    "Ask for a code and store that answer. \n",
    "If the answer is grey then print out if you found secret code.\n",
    "Otherwise print out the code is not the secret code."
   ]
  },
  {
   "cell_type": "code",
   "execution_count": 4,
   "metadata": {},
   "outputs": [
    {
     "name": "stdout",
     "output_type": "stream",
     "text": [
      "What's the secret code? g\n",
      "g is not the secret code.\n",
      "Bye!\n"
     ]
    }
   ],
   "source": [
    "code = input(\"What's the secret code? \")\n",
    "if code == \"grey\" :\n",
    "    print(\"You found the secret code!\")\n",
    "else :        \n",
    "    print(f\"{code} is not the secret code.\")\n",
    "    \n",
    "print(\"Bye!\")"
   ]
  },
  {
   "cell_type": "markdown",
   "metadata": {},
   "source": [
    "### Exercise 3\n",
    "\n",
    "Ask a user to enter a phrase. If the word contains a number, display the \"Number found\" message. Otherwise, show the \"Number not found\" message. "
   ]
  },
  {
   "cell_type": "code",
   "execution_count": 6,
   "metadata": {},
   "outputs": [
    {
     "name": "stdout",
     "output_type": "stream",
     "text": [
      "Enter a phrase: 3a\n",
      "Number found in \"3a.\"\n"
     ]
    }
   ],
   "source": [
    "phrase = input(\"Enter a phrase: \")\n",
    "\n",
    "if ('0' in phrase) or ('1' in phrase) or ('2' in phrase) or ('3' in phrase) or ('4' in phrase) or ('5' in phrase) or ('6' in phrase) or ('7' in phrase) or ('8' in phrase) or ('9' in phrase) :\n",
    "    print(f\"Number found in \\\"{phrase}.\\\"\")\n",
    "else :\n",
    "    print(f\"Number not found in \\\"{phrase}.\\\"\")"
   ]
  },
  {
   "cell_type": "markdown",
   "metadata": {},
   "source": [
    "### Exercise 4\n",
    "\n",
    "Ask a user to enter a number. Then, only if the number is divisible by 2 and 3, show the result of the number divided by two and three in a formated string. The output should look something like this:\n",
    "        \n",
    "    Enter a number: 2\n",
    "    Bye    \n",
    "    \n",
    "    Enter a number: 60\n",
    "    60 / 2 = 30.0\n",
    "    60 / 3 = 20.0\n",
    "    Bye\n",
    "    \n",
    "    Enter a number: 3\n",
    "    Bye\n",
    "    \n",
    "    Enter a number: 10\n",
    "    Bye    "
   ]
  },
  {
   "cell_type": "code",
   "execution_count": 8,
   "metadata": {},
   "outputs": [
    {
     "name": "stdout",
     "output_type": "stream",
     "text": [
      "Enter a number: 10\n",
      "Bye\n"
     ]
    }
   ],
   "source": [
    "numb1 = int(input(\"Enter a number: \"))\n",
    "if numb1 % 2 == 0 and numb1 % 3 == 0 :\n",
    "    print(f\"{numb1} / 2 = {numb1/2}\")\n",
    "    print(f\"{numb1} / 3 = {numb1/3}\")\n",
    "    \n",
    "print(\"Bye\")   \n"
   ]
  },
  {
   "cell_type": "markdown",
   "metadata": {},
   "source": [
    "### Exercise 5\n",
    "Ask a user to enter a number. Determine if the number is zero, positive or negative. Use only <b>if</b> and <b>else</b> statements. \n",
    "    "
   ]
  },
  {
   "cell_type": "code",
   "execution_count": 9,
   "metadata": {},
   "outputs": [
    {
     "name": "stdout",
     "output_type": "stream",
     "text": [
      "Enter a number: -9\n",
      "-9 is a negative number\n"
     ]
    }
   ],
   "source": [
    "ans = int(input(\"Enter a number: \"))\n",
    "if ans > 0 :\n",
    "    print(f\"{ans} is a positive number\")\n",
    "else :\n",
    "    if ans < 0 :\n",
    "        print(f\"{ans} is a negative number\")\n",
    "    else :    \n",
    "        print(f\"{ans} is a zero\")"
   ]
  },
  {
   "cell_type": "code",
   "execution_count": null,
   "metadata": {},
   "outputs": [],
   "source": []
  }
 ],
 "metadata": {
  "kernelspec": {
   "display_name": "Python 3 (ipykernel)",
   "language": "python",
   "name": "python3"
  },
  "language_info": {
   "codemirror_mode": {
    "name": "ipython",
    "version": 3
   },
   "file_extension": ".py",
   "mimetype": "text/x-python",
   "name": "python",
   "nbconvert_exporter": "python",
   "pygments_lexer": "ipython3",
   "version": "3.9.7"
  }
 },
 "nbformat": 4,
 "nbformat_minor": 4
}
